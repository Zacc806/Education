{
 "cells": [
  {
   "attachments": {},
   "cell_type": "markdown",
   "metadata": {},
   "source": [
    "School Project\n",
    "---"
   ]
  },
  {
   "attachments": {},
   "cell_type": "markdown",
   "metadata": {},
   "source": [
    "## Modules are descripted below"
   ]
  },
  {
   "attachments": {},
   "cell_type": "markdown",
   "metadata": {},
   "source": [
    "### The **users** module should contain the Human, Student(Human), Teacher(Human) classes.\n",
    "\n",
    "The Human class should contain the following information: first name, last name, age, gender, nationality, as well as methods for setting this information.\n",
    "\n",
    ">``` \n",
    "> h1 = Human(name=\"John\", familyname=\"Wick\", age=35, gender=\"male\", nationality=\"USA\")\n",
    "> ``` \n",
    "\n",
    "List of methods:\n",
    "> ```\n",
    "set_name()\n",
    "set_family()\n",
    "set_age()\n",
    "set_gender()\n",
    "set_nationality()\n",
    "get_info() # returns a dictionary with personal information about the object\n",
    "> ```\n",
    "\n",
    "2. The **Student** class is a child class of the Human class. It should contain the following information about each student: first name, last name, age, gender, nationality, name of school or university, list of subjects, and corresponding methods for setting this information.\n",
    "\n",
    "List of methods in addition to the list of methods from the parent Human class:\n",
    "> ```\n",
    "set_school()\n",
    "add_subject() # add a subject to the list of subjects\n",
    "> ```\n",
    "\n",
    "\n",
    "3. The **Teacher** class is a child class of the Human class. It should contain the following information about each teacher: first name, last name, age, gender, nationality, name of school or university, subject being taught, and corresponding methods for setting this information.\n",
    "\n",
    "List of methods in addition to the list of methods from the parent Human class:\n",
    "> ```\n",
    "set_school()\n",
    "add_subject() # add a subject that the teacher teaches\n",
    "> ```\n",
    "\n",
    "* When the **users** module is run directly, it should display a list of classes, as well as lists of methods for the corresponding classes presented in the module.\n",
    "\n",
    "* When you import the module, it should indicate that the module was successfully imported.\n",
    "\n",
    "---"
   ]
  },
  {
   "attachments": {},
   "cell_type": "markdown",
   "metadata": {},
   "source": [
    "### The **organizations** module should contain the School class.\n",
    "\n",
    "The **School** class should contain the following information: name or number of the school, school address, school phone number, email address of the educational institution, number of students, number of teachers, as well as methods for setting this information.\n",
    " \n",
    " \n",
    ">``` \n",
    "> s1 = School(name=\"NIS\", address=\"Astana, Kazakhstan\", phone=\"999999\", num_stud=1000, num_teachers=50)\n",
    "> ``` \n",
    "\n",
    "List of methods:\n",
    "> ```\n",
    "set_name()\n",
    "set_address()\n",
    "set_phone()\n",
    "set_email()\n",
    "set_num_stud()\n",
    "set_num_teachers()\n",
    "add_student()\n",
    "add_teacher()\n",
    "get_info() # returns a dictionary with information about the school without personal information of students/teachers\n",
    "get_report() # creates a report (a \"csv\" file) with information about the school and about each student, as well as about the teacher in this school.\n",
    "> ```\n",
    "\n",
    "* When the **organizations** module is run directly, it should display a list of classes, as well as lists of methods for the corresponding classes presented in the module.\n",
    "\n",
    "* When you import the module, it should indicate that the module was successfully imported.\n",
    "\n",
    "---"
   ]
  },
  {
   "attachments": {},
   "cell_type": "markdown",
   "metadata": {},
   "source": [
    "### What's in the Jupyter Notebook\n",
    "The sample and demonstration of all the functionality"
   ]
  },
  {
   "cell_type": "code",
   "execution_count": 1,
   "metadata": {},
   "outputs": [],
   "source": [
    "from organizations import *\n",
    "from users import *"
   ]
  },
  {
   "cell_type": "code",
   "execution_count": 2,
   "metadata": {},
   "outputs": [],
   "source": [
    "s1 = School(name=\"NIS\", address=\"Astana, Kazakhstan\", phone=\"999999\")"
   ]
  },
  {
   "cell_type": "code",
   "execution_count": 3,
   "metadata": {},
   "outputs": [
    {
     "name": "stdout",
     "output_type": "stream",
     "text": [
      "[<education.users.Student object at 0x000001D01F9DA580>]\n"
     ]
    }
   ],
   "source": [
    "s1.add_student(name=\"John\", familyname=\"Wick\", age=35, gender=\"male\", nationality=\"USA\")"
   ]
  },
  {
   "cell_type": "code",
   "execution_count": 4,
   "metadata": {},
   "outputs": [],
   "source": [
    "s1.set_email(\"info@kt.nis.edu.kz\")"
   ]
  },
  {
   "cell_type": "code",
   "execution_count": 5,
   "metadata": {},
   "outputs": [
    {
     "data": {
      "text/plain": [
       "{'name': 'NIS',\n",
       " 'address': 'Astana, Kazakhstan',\n",
       " 'phone': '999999',\n",
       " 'email': 'info@kt.nis.edu.kz',\n",
       " 'num_stud': 1,\n",
       " 'num_teachers': 0}"
      ]
     },
     "execution_count": 5,
     "metadata": {},
     "output_type": "execute_result"
    }
   ],
   "source": [
    "s1.get_info()"
   ]
  },
  {
   "cell_type": "code",
   "execution_count": 6,
   "metadata": {},
   "outputs": [],
   "source": [
    "s1.add_teacher(name=\"Wohn\", familyname=\"Jick\", age=53, gender=\"female\", nationality=\"USA\")"
   ]
  },
  {
   "cell_type": "code",
   "execution_count": 7,
   "metadata": {},
   "outputs": [
    {
     "data": {
      "text/plain": [
       "{'name': 'NIS',\n",
       " 'address': 'Astana, Kazakhstan',\n",
       " 'phone': '999999',\n",
       " 'email': 'info@kt.nis.edu.kz',\n",
       " 'num_stud': 1,\n",
       " 'num_teachers': 1}"
      ]
     },
     "execution_count": 7,
     "metadata": {},
     "output_type": "execute_result"
    }
   ],
   "source": [
    "s1.get_info()"
   ]
  },
  {
   "cell_type": "code",
   "execution_count": 8,
   "metadata": {},
   "outputs": [],
   "source": [
    "s1.get_report()"
   ]
  },
  {
   "cell_type": "code",
   "execution_count": 9,
   "metadata": {},
   "outputs": [],
   "source": [
    "s2=School(name=\"NIS\", address=\"Astana, Kazakhstan\", phone=\"999999\")"
   ]
  },
  {
   "cell_type": "code",
   "execution_count": null,
   "metadata": {},
   "outputs": [],
   "source": [
    "s2.add_student(name=\"John\", familyname=\"Wick\", age=35, gender=\"male\", nationality=\"USA\")"
   ]
  },
  {
   "cell_type": "code",
   "execution_count": null,
   "metadata": {},
   "outputs": [],
   "source": [
    "print(s2.get_info())\n",
    "s2.get_report()"
   ]
  },
  {
   "cell_type": "code",
   "execution_count": null,
   "metadata": {},
   "outputs": [],
   "source": [
    "s3=School(name=\"NIS\", address=\"Astana, Kazakhstan\", phone=\"999999\")"
   ]
  },
  {
   "cell_type": "code",
   "execution_count": null,
   "metadata": {},
   "outputs": [],
   "source": [
    "s3.add_student(name=\"Jack\", familyname=\"Daniels\", age=35, gender=\"male\", nationality=\"USA\")"
   ]
  },
  {
   "cell_type": "code",
   "execution_count": null,
   "metadata": {},
   "outputs": [],
   "source": [
    "s3.get_report()"
   ]
  },
  {
   "cell_type": "code",
   "execution_count": null,
   "metadata": {},
   "outputs": [],
   "source": [
    "s3.get_info()"
   ]
  }
 ],
 "metadata": {
  "kernelspec": {
   "display_name": "Python 3",
   "language": "python",
   "name": "python3"
  },
  "language_info": {
   "codemirror_mode": {
    "name": "ipython",
    "version": 3
   },
   "file_extension": ".py",
   "mimetype": "text/x-python",
   "name": "python",
   "nbconvert_exporter": "python",
   "pygments_lexer": "ipython3",
   "version": "3.8.3"
  }
 },
 "nbformat": 4,
 "nbformat_minor": 2
}
